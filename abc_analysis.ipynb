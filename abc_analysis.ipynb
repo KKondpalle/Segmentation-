{
 "cells": [
  {
   "cell_type": "code",
   "execution_count": 2,
   "id": "feebf235",
   "metadata": {},
   "outputs": [],
   "source": [
    "import pandas as pd\n",
    "import numpy as np\n",
    "import seaborn as sns\n",
    "import inventorize3 as inv "
   ]
  },
  {
   "cell_type": "code",
   "execution_count": 3,
   "id": "ce155693",
   "metadata": {},
   "outputs": [],
   "source": [
    "import os"
   ]
  },
  {
   "cell_type": "code",
   "execution_count": 4,
   "id": "f9849883",
   "metadata": {},
   "outputs": [
    {
     "data": {
      "text/plain": [
       "'C:\\\\Users\\\\kaust'"
      ]
     },
     "execution_count": 4,
     "metadata": {},
     "output_type": "execute_result"
    }
   ],
   "source": [
    "os.getcwd()"
   ]
  },
  {
   "cell_type": "code",
   "execution_count": 5,
   "id": "3387949d",
   "metadata": {},
   "outputs": [],
   "source": [
    "os.chdir('C:\\\\Users\\\\kaust\\\\OneDrive\\\\Desktop\\\\Supply Chain Analytics')"
   ]
  },
  {
   "cell_type": "code",
   "execution_count": 6,
   "id": "758bb4c8",
   "metadata": {},
   "outputs": [],
   "source": [
    "retail = pd.read_csv('online_retail2.csv')"
   ]
  },
  {
   "cell_type": "code",
   "execution_count": 7,
   "id": "c8a94f01",
   "metadata": {},
   "outputs": [],
   "source": [
    "retail= retail.drop_duplicates()\n",
    "retail= retail.dropna()\n",
    "retail= retail[retail.Quantity > 0]\n",
    "retail_clean= retail.copy()\n",
    "retail_clean['Revenue']= retail['Price']* retail['Quantity']\n",
    "retail_clean.to_csv('retail_clean.csv')\n",
    "retail_clean.columns\n",
    "grouped= retail_clean.groupby('Description'\n",
    "            ).agg(total_sales= ('Quantity',np.sum),\n",
    "                  total_revenue= ('Revenue',np.sum)).reset_index()\n",
    "\n",
    "grouped.to_csv('for_abc.csv')"
   ]
  },
  {
   "cell_type": "code",
   "execution_count": 8,
   "id": "ce430db7",
   "metadata": {},
   "outputs": [
    {
     "data": {
      "text/html": [
       "<div>\n",
       "<style scoped>\n",
       "    .dataframe tbody tr th:only-of-type {\n",
       "        vertical-align: middle;\n",
       "    }\n",
       "\n",
       "    .dataframe tbody tr th {\n",
       "        vertical-align: top;\n",
       "    }\n",
       "\n",
       "    .dataframe thead th {\n",
       "        text-align: right;\n",
       "    }\n",
       "</style>\n",
       "<table border=\"1\" class=\"dataframe\">\n",
       "  <thead>\n",
       "    <tr style=\"text-align: right;\">\n",
       "      <th></th>\n",
       "      <th>Description</th>\n",
       "      <th>total_sales</th>\n",
       "      <th>total_revenue</th>\n",
       "    </tr>\n",
       "  </thead>\n",
       "  <tbody>\n",
       "    <tr>\n",
       "      <th>0</th>\n",
       "      <td>DOORMAT UNION JACK GUNS AND ROSES</td>\n",
       "      <td>167</td>\n",
       "      <td>1071.25</td>\n",
       "    </tr>\n",
       "    <tr>\n",
       "      <th>1</th>\n",
       "      <td>3 STRIPEY MICE FELTCRAFT</td>\n",
       "      <td>662</td>\n",
       "      <td>1241.10</td>\n",
       "    </tr>\n",
       "    <tr>\n",
       "      <th>2</th>\n",
       "      <td>4 PURPLE FLOCK DINNER CANDLES</td>\n",
       "      <td>324</td>\n",
       "      <td>495.16</td>\n",
       "    </tr>\n",
       "    <tr>\n",
       "      <th>3</th>\n",
       "      <td>50'S CHRISTMAS GIFT BAG LARGE</td>\n",
       "      <td>1885</td>\n",
       "      <td>2272.25</td>\n",
       "    </tr>\n",
       "    <tr>\n",
       "      <th>4</th>\n",
       "      <td>ANIMAL STICKERS</td>\n",
       "      <td>385</td>\n",
       "      <td>80.85</td>\n",
       "    </tr>\n",
       "    <tr>\n",
       "      <th>...</th>\n",
       "      <td>...</td>\n",
       "      <td>...</td>\n",
       "      <td>...</td>\n",
       "    </tr>\n",
       "    <tr>\n",
       "      <th>5278</th>\n",
       "      <td>ZINC T-LIGHT HOLDER STARS SMALL</td>\n",
       "      <td>4894</td>\n",
       "      <td>3879.98</td>\n",
       "    </tr>\n",
       "    <tr>\n",
       "      <th>5279</th>\n",
       "      <td>ZINC TOP  2 DOOR WOODEN SHELF</td>\n",
       "      <td>242</td>\n",
       "      <td>1477.90</td>\n",
       "    </tr>\n",
       "    <tr>\n",
       "      <th>5280</th>\n",
       "      <td>ZINC WILLIE WINKIE  CANDLE STICK</td>\n",
       "      <td>6166</td>\n",
       "      <td>5127.22</td>\n",
       "    </tr>\n",
       "    <tr>\n",
       "      <th>5281</th>\n",
       "      <td>ZINC WIRE KITCHEN ORGANISER</td>\n",
       "      <td>25</td>\n",
       "      <td>156.80</td>\n",
       "    </tr>\n",
       "    <tr>\n",
       "      <th>5282</th>\n",
       "      <td>ZINC WIRE SWEETHEART LETTER TRAY</td>\n",
       "      <td>80</td>\n",
       "      <td>253.24</td>\n",
       "    </tr>\n",
       "  </tbody>\n",
       "</table>\n",
       "<p>5283 rows × 3 columns</p>\n",
       "</div>"
      ],
      "text/plain": [
       "                              Description  total_sales  total_revenue\n",
       "0       DOORMAT UNION JACK GUNS AND ROSES          167        1071.25\n",
       "1                3 STRIPEY MICE FELTCRAFT          662        1241.10\n",
       "2           4 PURPLE FLOCK DINNER CANDLES          324         495.16\n",
       "3           50'S CHRISTMAS GIFT BAG LARGE         1885        2272.25\n",
       "4                         ANIMAL STICKERS          385          80.85\n",
       "...                                   ...          ...            ...\n",
       "5278      ZINC T-LIGHT HOLDER STARS SMALL         4894        3879.98\n",
       "5279       ZINC TOP  2 DOOR WOODEN SHELF           242        1477.90\n",
       "5280     ZINC WILLIE WINKIE  CANDLE STICK         6166        5127.22\n",
       "5281          ZINC WIRE KITCHEN ORGANISER           25         156.80\n",
       "5282     ZINC WIRE SWEETHEART LETTER TRAY           80         253.24\n",
       "\n",
       "[5283 rows x 3 columns]"
      ]
     },
     "execution_count": 8,
     "metadata": {},
     "output_type": "execute_result"
    }
   ],
   "source": [
    "grouped\n"
   ]
  },
  {
   "cell_type": "code",
   "execution_count": 9,
   "id": "1a44e993",
   "metadata": {},
   "outputs": [],
   "source": [
    "\n",
    "a = inv.ABC(grouped[['Description','total_sales']])"
   ]
  },
  {
   "cell_type": "code",
   "execution_count": 10,
   "id": "ddd51004",
   "metadata": {},
   "outputs": [
    {
     "data": {
      "text/plain": [
       "C    2881\n",
       "B    1245\n",
       "A    1157\n",
       "Name: Category, dtype: int64"
      ]
     },
     "execution_count": 10,
     "metadata": {},
     "output_type": "execute_result"
    }
   ],
   "source": [
    "a.Category.value_counts()"
   ]
  },
  {
   "cell_type": "code",
   "execution_count": 11,
   "id": "7688ea91",
   "metadata": {},
   "outputs": [
    {
     "data": {
      "text/html": [
       "<div>\n",
       "<style scoped>\n",
       "    .dataframe tbody tr th:only-of-type {\n",
       "        vertical-align: middle;\n",
       "    }\n",
       "\n",
       "    .dataframe tbody tr th {\n",
       "        vertical-align: top;\n",
       "    }\n",
       "\n",
       "    .dataframe thead th {\n",
       "        text-align: right;\n",
       "    }\n",
       "</style>\n",
       "<table border=\"1\" class=\"dataframe\">\n",
       "  <thead>\n",
       "    <tr style=\"text-align: right;\">\n",
       "      <th></th>\n",
       "      <th>Description</th>\n",
       "      <th>total_sales</th>\n",
       "      <th>Percentage</th>\n",
       "      <th>comulative</th>\n",
       "      <th>Category</th>\n",
       "    </tr>\n",
       "  </thead>\n",
       "  <tbody>\n",
       "    <tr>\n",
       "      <th>5168</th>\n",
       "      <td>WORLD WAR 2 GLIDERS ASSTD DESIGNS</td>\n",
       "      <td>105185</td>\n",
       "      <td>9.990307e-03</td>\n",
       "      <td>0.009990</td>\n",
       "      <td>A</td>\n",
       "    </tr>\n",
       "    <tr>\n",
       "      <th>5047</th>\n",
       "      <td>WHITE HANGING HEART T-LIGHT HOLDER</td>\n",
       "      <td>91757</td>\n",
       "      <td>8.714937e-03</td>\n",
       "      <td>0.018705</td>\n",
       "      <td>A</td>\n",
       "    </tr>\n",
       "    <tr>\n",
       "      <th>3129</th>\n",
       "      <td>PAPER CRAFT , LITTLE BIRDIE</td>\n",
       "      <td>80995</td>\n",
       "      <td>7.692779e-03</td>\n",
       "      <td>0.026398</td>\n",
       "      <td>A</td>\n",
       "    </tr>\n",
       "    <tr>\n",
       "      <th>292</th>\n",
       "      <td>ASSORTED COLOUR BIRD ORNAMENT</td>\n",
       "      <td>78234</td>\n",
       "      <td>7.430543e-03</td>\n",
       "      <td>0.033829</td>\n",
       "      <td>A</td>\n",
       "    </tr>\n",
       "    <tr>\n",
       "      <th>2695</th>\n",
       "      <td>MEDIUM CERAMIC TOP STORAGE JAR</td>\n",
       "      <td>77916</td>\n",
       "      <td>7.400340e-03</td>\n",
       "      <td>0.041229</td>\n",
       "      <td>A</td>\n",
       "    </tr>\n",
       "    <tr>\n",
       "      <th>...</th>\n",
       "      <td>...</td>\n",
       "      <td>...</td>\n",
       "      <td>...</td>\n",
       "      <td>...</td>\n",
       "      <td>...</td>\n",
       "    </tr>\n",
       "    <tr>\n",
       "      <th>3451</th>\n",
       "      <td>PINK STRIPES SHOULDER BAG</td>\n",
       "      <td>1</td>\n",
       "      <td>9.497844e-08</td>\n",
       "      <td>1.000000</td>\n",
       "      <td>C</td>\n",
       "    </tr>\n",
       "    <tr>\n",
       "      <th>4370</th>\n",
       "      <td>SILVER AND BLACK ORBIT NECKLACE</td>\n",
       "      <td>1</td>\n",
       "      <td>9.497844e-08</td>\n",
       "      <td>1.000000</td>\n",
       "      <td>C</td>\n",
       "    </tr>\n",
       "    <tr>\n",
       "      <th>479</th>\n",
       "      <td>BLACK DIAMOND CLUSTER EARRINGS</td>\n",
       "      <td>1</td>\n",
       "      <td>9.497844e-08</td>\n",
       "      <td>1.000000</td>\n",
       "      <td>C</td>\n",
       "    </tr>\n",
       "    <tr>\n",
       "      <th>4271</th>\n",
       "      <td>SET/2 SPOTTY + ROSE TEA TOWELS</td>\n",
       "      <td>1</td>\n",
       "      <td>9.497844e-08</td>\n",
       "      <td>1.000000</td>\n",
       "      <td>C</td>\n",
       "    </tr>\n",
       "    <tr>\n",
       "      <th>4046</th>\n",
       "      <td>SET 12 COLOURING PENCILS DOILEY</td>\n",
       "      <td>1</td>\n",
       "      <td>9.497844e-08</td>\n",
       "      <td>1.000000</td>\n",
       "      <td>C</td>\n",
       "    </tr>\n",
       "  </tbody>\n",
       "</table>\n",
       "<p>5283 rows × 5 columns</p>\n",
       "</div>"
      ],
      "text/plain": [
       "                             Description  total_sales    Percentage  \\\n",
       "5168   WORLD WAR 2 GLIDERS ASSTD DESIGNS       105185  9.990307e-03   \n",
       "5047  WHITE HANGING HEART T-LIGHT HOLDER        91757  8.714937e-03   \n",
       "3129         PAPER CRAFT , LITTLE BIRDIE        80995  7.692779e-03   \n",
       "292        ASSORTED COLOUR BIRD ORNAMENT        78234  7.430543e-03   \n",
       "2695      MEDIUM CERAMIC TOP STORAGE JAR        77916  7.400340e-03   \n",
       "...                                  ...          ...           ...   \n",
       "3451           PINK STRIPES SHOULDER BAG            1  9.497844e-08   \n",
       "4370     SILVER AND BLACK ORBIT NECKLACE            1  9.497844e-08   \n",
       "479       BLACK DIAMOND CLUSTER EARRINGS            1  9.497844e-08   \n",
       "4271     SET/2 SPOTTY + ROSE TEA TOWELS             1  9.497844e-08   \n",
       "4046     SET 12 COLOURING PENCILS DOILEY            1  9.497844e-08   \n",
       "\n",
       "      comulative Category  \n",
       "5168    0.009990        A  \n",
       "5047    0.018705        A  \n",
       "3129    0.026398        A  \n",
       "292     0.033829        A  \n",
       "2695    0.041229        A  \n",
       "...          ...      ...  \n",
       "3451    1.000000        C  \n",
       "4370    1.000000        C  \n",
       "479     1.000000        C  \n",
       "4271    1.000000        C  \n",
       "4046    1.000000        C  \n",
       "\n",
       "[5283 rows x 5 columns]"
      ]
     },
     "execution_count": 11,
     "metadata": {},
     "output_type": "execute_result"
    }
   ],
   "source": [
    "a"
   ]
  },
  {
   "cell_type": "code",
   "execution_count": 12,
   "id": "d9258f80",
   "metadata": {},
   "outputs": [
    {
     "data": {
      "text/plain": [
       "<AxesSubplot:xlabel='Category', ylabel='count'>"
      ]
     },
     "execution_count": 12,
     "metadata": {},
     "output_type": "execute_result"
    },
    {
     "data": {
      "image/png": "[encoded data removed]",
      "text/plain": [
       "<Figure size 432x288 with 1 Axes>"
      ]
     },
     "metadata": {
      "needs_background": "light"
     },
     "output_type": "display_data"
    }
   ],
   "source": [
    "sns.countplot(x='Category', data = a)"
   ]
  },
  {
   "cell_type": "code",
   "execution_count": 13,
   "id": "7f861340",
   "metadata": {},
   "outputs": [
    {
     "data": {
      "text/plain": [
       "<AxesSubplot:xlabel='Category', ylabel='total_sales'>"
      ]
     },
     "execution_count": 13,
     "metadata": {},
     "output_type": "execute_result"
    },
    {
     "data": {
      "image/png": "[encoded data removed]",
      "text/plain": [
       "<Figure size 432x288 with 1 Axes>"
      ]
     },
     "metadata": {
      "needs_background": "light"
     },
     "output_type": "display_data"
    }
   ],
   "source": [
    "sns.barplot(x='Category', y = 'total_sales', data=a)"
   ]
  },
  {
   "cell_type": "code",
   "execution_count": 14,
   "id": "f5183140",
   "metadata": {},
   "outputs": [],
   "source": [
    "### Multi Crietirion abc Analysis\n",
    "b=inv.productmix(grouped['Description'],grouped['total_sales'],grouped['total_revenue'])"
   ]
  },
  {
   "cell_type": "code",
   "execution_count": 15,
   "id": "5016a431",
   "metadata": {},
   "outputs": [
    {
     "data": {
      "text/plain": [
       "Index(['skus', 'sales', 'revenue', 'sales_mix', 'comulative_sales',\n",
       "       'revenue_mix', 'comulative_revenue', 'sales_category',\n",
       "       'revenue_category', 'product_mix'],\n",
       "      dtype='object')"
      ]
     },
     "execution_count": 15,
     "metadata": {},
     "output_type": "execute_result"
    }
   ],
   "source": [
    "b.columns"
   ]
  },
  {
   "cell_type": "code",
   "execution_count": 16,
   "id": "ec3a8eb7",
   "metadata": {},
   "outputs": [
    {
     "data": {
      "text/plain": [
       "C_C    2394\n",
       "A_A     775\n",
       "B_B     632\n",
       "C_B     413\n",
       "B_C     325\n",
       "A_B     317\n",
       "B_A     288\n",
       "C_A      74\n",
       "A_C      65\n",
       "Name: product_mix, dtype: int64"
      ]
     },
     "execution_count": 16,
     "metadata": {},
     "output_type": "execute_result"
    }
   ],
   "source": [
    "b.product_mix.value_counts()"
   ]
  },
  {
   "cell_type": "code",
   "execution_count": 17,
   "id": "1923b208",
   "metadata": {},
   "outputs": [
    {
     "data": {
      "text/plain": [
       "<AxesSubplot:xlabel='product_mix', ylabel='count'>"
      ]
     },
     "execution_count": 17,
     "metadata": {},
     "output_type": "execute_result"
    },
    {
     "data": {
      "image/png": "[encoded data removed]",
      "text/plain": [
       "<Figure size 432x288 with 1 Axes>"
      ]
     },
     "metadata": {
      "needs_background": "light"
     },
     "output_type": "display_data"
    }
   ],
   "source": [
    "sns.countplot(x = 'product_mix', data = b)"
   ]
  },
  {
   "cell_type": "code",
   "execution_count": 18,
   "id": "8a9dee45",
   "metadata": {},
   "outputs": [
    {
     "data": {
      "text/plain": [
       "<AxesSubplot:xlabel='product_mix', ylabel='sales'>"
      ]
     },
     "execution_count": 18,
     "metadata": {},
     "output_type": "execute_result"
    },
    {
     "data": {
      "image/png": "[encoded data removed]",
      "text/plain": [
       "<Figure size 432x288 with 1 Axes>"
      ]
     },
     "metadata": {
      "needs_background": "light"
     },
     "output_type": "display_data"
    }
   ],
   "source": [
    "sns.barplot(x='product_mix', y='sales', data = b)"
   ]
  },
  {
   "cell_type": "code",
   "execution_count": 19,
   "id": "d79b8ff4",
   "metadata": {},
   "outputs": [
    {
     "data": {
      "text/plain": [
       "<AxesSubplot:xlabel='product_mix', ylabel='revenue'>"
      ]
     },
     "execution_count": 19,
     "metadata": {},
     "output_type": "execute_result"
    },
    {
     "data": {
      "image/png": "[encoded data removed]",
      "text/plain": [
       "<Figure size 432x288 with 1 Axes>"
      ]
     },
     "metadata": {
      "needs_background": "light"
     },
     "output_type": "display_data"
    }
   ],
   "source": [
    "sns.barplot(x='product_mix', y = 'revenue',data = b)"
   ]
  },
  {
   "cell_type": "code",
   "execution_count": 21,
   "id": "d354944b",
   "metadata": {},
   "outputs": [],
   "source": [
    "by_store=retail_clean.groupby(['Country','Description']).agg(total_sales=('Quantity',np.sum),\n",
    "                                                   total_revenue = ('Revenue',np.sum)).reset_index()"
   ]
  },
  {
   "cell_type": "code",
   "execution_count": 23,
   "id": "2d6aa19e",
   "metadata": {},
   "outputs": [
    {
     "name": "stderr",
     "output_type": "stream",
     "text": [
      "C:\\Users\\kaust\\anaconda3\\lib\\site-packages\\inventorize3\\__init__.py:1102: SettingWithCopyWarning: \n",
      "A value is trying to be set on a copy of a slice from a DataFrame.\n",
      "Try using .loc[row_indexer,col_indexer] = value instead\n",
      "\n",
      "See the caveats in the documentation: https://pandas.pydata.org/pandas-docs/stable/user_guide/indexing.html#returning-a-view-versus-a-copy\n",
      "  store['sales_mix']= store['sales']/sum(store['sales'])\n"
     ]
    }
   ],
   "source": [
    "mix_country=inv.productmix_storelevel(by_store['Description'],\n",
    "                         by_store['total_sales'],\n",
    "                         by_store['total_revenue'],\n",
    "                         by_store['Country'])"
   ]
  },
  {
   "cell_type": "code",
   "execution_count": 25,
   "id": "10c251ab",
   "metadata": {},
   "outputs": [
    {
     "data": {
      "text/html": [
       "<div>\n",
       "<style scoped>\n",
       "    .dataframe tbody tr th:only-of-type {\n",
       "        vertical-align: middle;\n",
       "    }\n",
       "\n",
       "    .dataframe tbody tr th {\n",
       "        vertical-align: top;\n",
       "    }\n",
       "\n",
       "    .dataframe thead th {\n",
       "        text-align: right;\n",
       "    }\n",
       "</style>\n",
       "<table border=\"1\" class=\"dataframe\">\n",
       "  <thead>\n",
       "    <tr style=\"text-align: right;\">\n",
       "      <th></th>\n",
       "      <th>storeofsku</th>\n",
       "      <th>product_mix</th>\n",
       "      <th>sku</th>\n",
       "    </tr>\n",
       "  </thead>\n",
       "  <tbody>\n",
       "    <tr>\n",
       "      <th>0</th>\n",
       "      <td>Australia</td>\n",
       "      <td>A_A</td>\n",
       "      <td>176</td>\n",
       "    </tr>\n",
       "    <tr>\n",
       "      <th>1</th>\n",
       "      <td>Australia</td>\n",
       "      <td>A_B</td>\n",
       "      <td>79</td>\n",
       "    </tr>\n",
       "    <tr>\n",
       "      <th>2</th>\n",
       "      <td>Australia</td>\n",
       "      <td>A_C</td>\n",
       "      <td>7</td>\n",
       "    </tr>\n",
       "    <tr>\n",
       "      <th>3</th>\n",
       "      <td>Australia</td>\n",
       "      <td>B_A</td>\n",
       "      <td>76</td>\n",
       "    </tr>\n",
       "    <tr>\n",
       "      <th>4</th>\n",
       "      <td>Australia</td>\n",
       "      <td>B_B</td>\n",
       "      <td>104</td>\n",
       "    </tr>\n",
       "    <tr>\n",
       "      <th>...</th>\n",
       "      <td>...</td>\n",
       "      <td>...</td>\n",
       "      <td>...</td>\n",
       "    </tr>\n",
       "    <tr>\n",
       "      <th>348</th>\n",
       "      <td>West Indies</td>\n",
       "      <td>B_B</td>\n",
       "      <td>4</td>\n",
       "    </tr>\n",
       "    <tr>\n",
       "      <th>349</th>\n",
       "      <td>West Indies</td>\n",
       "      <td>B_C</td>\n",
       "      <td>4</td>\n",
       "    </tr>\n",
       "    <tr>\n",
       "      <th>350</th>\n",
       "      <td>West Indies</td>\n",
       "      <td>C_A</td>\n",
       "      <td>6</td>\n",
       "    </tr>\n",
       "    <tr>\n",
       "      <th>351</th>\n",
       "      <td>West Indies</td>\n",
       "      <td>C_B</td>\n",
       "      <td>3</td>\n",
       "    </tr>\n",
       "    <tr>\n",
       "      <th>352</th>\n",
       "      <td>West Indies</td>\n",
       "      <td>C_C</td>\n",
       "      <td>4</td>\n",
       "    </tr>\n",
       "  </tbody>\n",
       "</table>\n",
       "<p>353 rows × 3 columns</p>\n",
       "</div>"
      ],
      "text/plain": [
       "      storeofsku product_mix  sku\n",
       "0      Australia         A_A  176\n",
       "1      Australia         A_B   79\n",
       "2      Australia         A_C    7\n",
       "3      Australia         B_A   76\n",
       "4      Australia         B_B  104\n",
       "..           ...         ...  ...\n",
       "348  West Indies         B_B    4\n",
       "349  West Indies         B_C    4\n",
       "350  West Indies         C_A    6\n",
       "351  West Indies         C_B    3\n",
       "352  West Indies         C_C    4\n",
       "\n",
       "[353 rows x 3 columns]"
      ]
     },
     "execution_count": 25,
     "metadata": {},
     "output_type": "execute_result"
    }
   ],
   "source": [
    "mix_country.groupby(['storeofsku','product_mix']).count().reset_index().iloc[:,0:3]"
   ]
  },
  {
   "cell_type": "code",
   "execution_count": null,
   "id": "8eb14be2",
   "metadata": {},
   "outputs": [],
   "source": []
  }
 ],
 "metadata": {
  "kernelspec": {
   "display_name": "Python 3 (ipykernel)",
   "language": "python",
   "name": "python3"
  },
  "language_info": {
   "codemirror_mode": {
    "name": "ipython",
    "version": 3
   },
   "file_extension": ".py",
   "mimetype": "text/x-python",
   "name": "python",
   "nbconvert_exporter": "python",
   "pygments_lexer": "ipython3",
   "version": "3.8.5"
  }
 },
 "nbformat": 4,
 "nbformat_minor": 5
}
